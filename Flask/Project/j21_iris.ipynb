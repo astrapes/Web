{
 "cells": [
  {
   "cell_type": "markdown",
   "metadata": {},
   "source": [
    "# Iris 분류"
   ]
  },
  {
   "cell_type": "code",
   "execution_count": 1,
   "metadata": {},
   "outputs": [],
   "source": [
    "import numpy as np\n",
    "import pandas as pd\n",
    "import warnings\n",
    "warnings.filterwarnings('ignore')"
   ]
  },
  {
   "cell_type": "code",
   "execution_count": 2,
   "metadata": {},
   "outputs": [],
   "source": [
    "from sklearn.datasets import load_iris\n",
    "iris = load_iris()"
   ]
  },
  {
   "cell_type": "code",
   "execution_count": 3,
   "metadata": {},
   "outputs": [
    {
     "data": {
      "text/html": [
       "<div>\n",
       "<style scoped>\n",
       "    .dataframe tbody tr th:only-of-type {\n",
       "        vertical-align: middle;\n",
       "    }\n",
       "\n",
       "    .dataframe tbody tr th {\n",
       "        vertical-align: top;\n",
       "    }\n",
       "\n",
       "    .dataframe thead th {\n",
       "        text-align: right;\n",
       "    }\n",
       "</style>\n",
       "<table border=\"1\" class=\"dataframe\">\n",
       "  <thead>\n",
       "    <tr style=\"text-align: right;\">\n",
       "      <th></th>\n",
       "      <th>sepal length (cm)</th>\n",
       "      <th>sepal width (cm)</th>\n",
       "      <th>petal length (cm)</th>\n",
       "      <th>petal width (cm)</th>\n",
       "    </tr>\n",
       "  </thead>\n",
       "  <tbody>\n",
       "    <tr>\n",
       "      <th>0</th>\n",
       "      <td>5.1</td>\n",
       "      <td>3.5</td>\n",
       "      <td>1.4</td>\n",
       "      <td>0.2</td>\n",
       "    </tr>\n",
       "    <tr>\n",
       "      <th>1</th>\n",
       "      <td>4.9</td>\n",
       "      <td>3.0</td>\n",
       "      <td>1.4</td>\n",
       "      <td>0.2</td>\n",
       "    </tr>\n",
       "    <tr>\n",
       "      <th>2</th>\n",
       "      <td>4.7</td>\n",
       "      <td>3.2</td>\n",
       "      <td>1.3</td>\n",
       "      <td>0.2</td>\n",
       "    </tr>\n",
       "    <tr>\n",
       "      <th>3</th>\n",
       "      <td>4.6</td>\n",
       "      <td>3.1</td>\n",
       "      <td>1.5</td>\n",
       "      <td>0.2</td>\n",
       "    </tr>\n",
       "    <tr>\n",
       "      <th>4</th>\n",
       "      <td>5.0</td>\n",
       "      <td>3.6</td>\n",
       "      <td>1.4</td>\n",
       "      <td>0.2</td>\n",
       "    </tr>\n",
       "  </tbody>\n",
       "</table>\n",
       "</div>"
      ],
      "text/plain": [
       "   sepal length (cm)  sepal width (cm)  petal length (cm)  petal width (cm)\n",
       "0                5.1               3.5                1.4               0.2\n",
       "1                4.9               3.0                1.4               0.2\n",
       "2                4.7               3.2                1.3               0.2\n",
       "3                4.6               3.1                1.5               0.2\n",
       "4                5.0               3.6                1.4               0.2"
      ]
     },
     "execution_count": 3,
     "metadata": {},
     "output_type": "execute_result"
    }
   ],
   "source": [
    "# data, target, target_names, feature_names, DESCR\n",
    "data = iris.data\n",
    "label = iris.target\n",
    "columns = iris.feature_names\n",
    "df = pd.DataFrame(data, columns=columns)\n",
    "df.head()"
   ]
  },
  {
   "cell_type": "code",
   "execution_count": 4,
   "metadata": {},
   "outputs": [],
   "source": [
    "from sklearn.model_selection import train_test_split\n",
    "x_train, x_test, y_train, y_test = \\\n",
    "    train_test_split(data, label, test_size=0.2, \n",
    "                     shuffle=True, stratify=label, random_state=2019)"
   ]
  },
  {
   "cell_type": "markdown",
   "metadata": {},
   "source": [
    "### Logistic Regression"
   ]
  },
  {
   "cell_type": "markdown",
   "metadata": {},
   "source": [
    "- 모델 객체 생성"
   ]
  },
  {
   "cell_type": "code",
   "execution_count": 5,
   "metadata": {},
   "outputs": [],
   "source": [
    "from sklearn.linear_model import LogisticRegression\n",
    "lr = LogisticRegression(verbose=1)"
   ]
  },
  {
   "cell_type": "markdown",
   "metadata": {},
   "source": [
    "- 모델 학습"
   ]
  },
  {
   "cell_type": "code",
   "execution_count": 6,
   "metadata": {},
   "outputs": [
    {
     "name": "stderr",
     "output_type": "stream",
     "text": [
      "[Parallel(n_jobs=1)]: Using backend SequentialBackend with 1 concurrent workers.\n",
      "[Parallel(n_jobs=1)]: Done   1 out of   1 | elapsed:    0.0s finished\n"
     ]
    },
    {
     "data": {
      "text/plain": [
       "LogisticRegression(verbose=1)"
      ]
     },
     "execution_count": 6,
     "metadata": {},
     "output_type": "execute_result"
    }
   ],
   "source": [
    "lr.fit(x_train, y_train)"
   ]
  },
  {
   "cell_type": "markdown",
   "metadata": {},
   "source": [
    "- 학습한 결과를 저장"
   ]
  },
  {
   "cell_type": "code",
   "execution_count": 7,
   "metadata": {},
   "outputs": [
    {
     "data": {
      "text/plain": [
       "['model/iris_lr.pkl']"
      ]
     },
     "execution_count": 7,
     "metadata": {},
     "output_type": "execute_result"
    }
   ],
   "source": [
    "import joblib\n",
    "joblib.dump(lr, 'model/iris_lr.pkl')"
   ]
  },
  {
   "cell_type": "markdown",
   "metadata": {},
   "source": [
    "### Support Vector Machine"
   ]
  },
  {
   "cell_type": "code",
   "execution_count": 8,
   "metadata": {},
   "outputs": [],
   "source": [
    "from sklearn.svm import SVC\n",
    "svc = SVC()"
   ]
  },
  {
   "cell_type": "code",
   "execution_count": 9,
   "metadata": {},
   "outputs": [
    {
     "data": {
      "text/plain": [
       "SVC()"
      ]
     },
     "execution_count": 9,
     "metadata": {},
     "output_type": "execute_result"
    }
   ],
   "source": [
    "svc.fit(x_train, y_train)"
   ]
  },
  {
   "cell_type": "code",
   "execution_count": 10,
   "metadata": {},
   "outputs": [
    {
     "data": {
      "text/plain": [
       "['model/iris_svm.pkl']"
      ]
     },
     "execution_count": 10,
     "metadata": {},
     "output_type": "execute_result"
    }
   ],
   "source": [
    "joblib.dump(svc, 'model/iris_svm.pkl')"
   ]
  },
  {
   "cell_type": "markdown",
   "metadata": {},
   "source": [
    "### Decision Tree"
   ]
  },
  {
   "cell_type": "code",
   "execution_count": 11,
   "metadata": {},
   "outputs": [],
   "source": [
    "from sklearn.tree import DecisionTreeClassifier\n",
    "dtc = DecisionTreeClassifier()"
   ]
  },
  {
   "cell_type": "code",
   "execution_count": 12,
   "metadata": {},
   "outputs": [
    {
     "data": {
      "text/plain": [
       "DecisionTreeClassifier()"
      ]
     },
     "execution_count": 12,
     "metadata": {},
     "output_type": "execute_result"
    }
   ],
   "source": [
    "dtc.fit(x_train, y_train)"
   ]
  },
  {
   "cell_type": "code",
   "execution_count": 13,
   "metadata": {},
   "outputs": [
    {
     "data": {
      "text/plain": [
       "['model/iris_dt.pkl']"
      ]
     },
     "execution_count": 13,
     "metadata": {},
     "output_type": "execute_result"
    }
   ],
   "source": [
    "joblib.dump(dtc, 'model/iris_dt.pkl')"
   ]
  },
  {
   "cell_type": "markdown",
   "metadata": {},
   "source": [
    "### 저장된 모델로 정확도 산출"
   ]
  },
  {
   "cell_type": "code",
   "execution_count": 14,
   "metadata": {},
   "outputs": [],
   "source": [
    "model_lr = joblib.load('model/iris_lr.pkl')\n",
    "model_svm = joblib.load('model/iris_svm.pkl')\n",
    "model_dt = joblib.load('model/iris_dt.pkl')"
   ]
  },
  {
   "cell_type": "code",
   "execution_count": 15,
   "metadata": {},
   "outputs": [],
   "source": [
    "y_pred_lr = model_lr.predict(x_test)\n",
    "y_pred_svm = model_svm.predict(x_test)\n",
    "y_pred_dt = model_dt.predict(x_test)"
   ]
  },
  {
   "cell_type": "code",
   "execution_count": 16,
   "metadata": {},
   "outputs": [
    {
     "name": "stdout",
     "output_type": "stream",
     "text": [
      "0.9666666666666667 0.9666666666666667 0.9666666666666667\n"
     ]
    }
   ],
   "source": [
    "from sklearn.metrics import accuracy_score\n",
    "acc_lr = accuracy_score(y_test, y_pred_lr)\n",
    "acc_svm = accuracy_score(y_test, y_pred_svm)\n",
    "acc_dt = accuracy_score(y_test, y_pred_dt)\n",
    "print(acc_lr, acc_svm, acc_dt)"
   ]
  },
  {
   "cell_type": "markdown",
   "metadata": {},
   "source": [
    "### 한개의 테스트 값 예측"
   ]
  },
  {
   "cell_type": "code",
   "execution_count": 17,
   "metadata": {},
   "outputs": [
    {
     "data": {
      "text/html": [
       "<div>\n",
       "<style scoped>\n",
       "    .dataframe tbody tr th:only-of-type {\n",
       "        vertical-align: middle;\n",
       "    }\n",
       "\n",
       "    .dataframe tbody tr th {\n",
       "        vertical-align: top;\n",
       "    }\n",
       "\n",
       "    .dataframe thead th {\n",
       "        text-align: right;\n",
       "    }\n",
       "</style>\n",
       "<table border=\"1\" class=\"dataframe\">\n",
       "  <thead>\n",
       "    <tr style=\"text-align: right;\">\n",
       "      <th></th>\n",
       "      <th>sepal length (cm)</th>\n",
       "      <th>sepal width (cm)</th>\n",
       "      <th>petal length (cm)</th>\n",
       "      <th>petal width (cm)</th>\n",
       "    </tr>\n",
       "  </thead>\n",
       "  <tbody>\n",
       "    <tr>\n",
       "      <th>145</th>\n",
       "      <td>6.7</td>\n",
       "      <td>3.0</td>\n",
       "      <td>5.2</td>\n",
       "      <td>2.3</td>\n",
       "    </tr>\n",
       "    <tr>\n",
       "      <th>146</th>\n",
       "      <td>6.3</td>\n",
       "      <td>2.5</td>\n",
       "      <td>5.0</td>\n",
       "      <td>1.9</td>\n",
       "    </tr>\n",
       "    <tr>\n",
       "      <th>147</th>\n",
       "      <td>6.5</td>\n",
       "      <td>3.0</td>\n",
       "      <td>5.2</td>\n",
       "      <td>2.0</td>\n",
       "    </tr>\n",
       "    <tr>\n",
       "      <th>148</th>\n",
       "      <td>6.2</td>\n",
       "      <td>3.4</td>\n",
       "      <td>5.4</td>\n",
       "      <td>2.3</td>\n",
       "    </tr>\n",
       "    <tr>\n",
       "      <th>149</th>\n",
       "      <td>5.9</td>\n",
       "      <td>3.0</td>\n",
       "      <td>5.1</td>\n",
       "      <td>1.8</td>\n",
       "    </tr>\n",
       "  </tbody>\n",
       "</table>\n",
       "</div>"
      ],
      "text/plain": [
       "     sepal length (cm)  sepal width (cm)  petal length (cm)  petal width (cm)\n",
       "145                6.7               3.0                5.2               2.3\n",
       "146                6.3               2.5                5.0               1.9\n",
       "147                6.5               3.0                5.2               2.0\n",
       "148                6.2               3.4                5.4               2.3\n",
       "149                5.9               3.0                5.1               1.8"
      ]
     },
     "execution_count": 17,
     "metadata": {},
     "output_type": "execute_result"
    }
   ],
   "source": [
    "df.tail()"
   ]
  },
  {
   "cell_type": "code",
   "execution_count": 18,
   "metadata": {},
   "outputs": [],
   "source": [
    "test_data = np.array([6.7, 3.0, 5.2, 2.3]).reshape(1, 4)"
   ]
  },
  {
   "cell_type": "code",
   "execution_count": 19,
   "metadata": {},
   "outputs": [],
   "source": [
    "index_lr = model_lr.predict(test_data)[0]\n",
    "index_svm = model_svm.predict(test_data)[0]\n",
    "index_dt = model_dt.predict(test_data)[0]"
   ]
  },
  {
   "cell_type": "code",
   "execution_count": 20,
   "metadata": {},
   "outputs": [
    {
     "name": "stdout",
     "output_type": "stream",
     "text": [
      "Virginica Virginica Virginica\n"
     ]
    }
   ],
   "source": [
    "sp_names = ['Setosa', 'Versicolor', 'Virginica']\n",
    "print(sp_names[index_lr], sp_names[index_svm], sp_names[index_dt])"
   ]
  },
  {
   "cell_type": "markdown",
   "metadata": {},
   "source": [
    "## Deep Learning Model"
   ]
  },
  {
   "cell_type": "code",
   "execution_count": 21,
   "metadata": {},
   "outputs": [
    {
     "name": "stdout",
     "output_type": "stream",
     "text": [
      "Model: \"sequential_1\"\n",
      "_________________________________________________________________\n",
      "Layer (type)                 Output Shape              Param #   \n",
      "=================================================================\n",
      "dense_1 (Dense)              (None, 12)                60        \n",
      "_________________________________________________________________\n",
      "dense_2 (Dense)              (None, 8)                 104       \n",
      "_________________________________________________________________\n",
      "dense_3 (Dense)              (None, 3)                 27        \n",
      "=================================================================\n",
      "Total params: 191\n",
      "Trainable params: 191\n",
      "Non-trainable params: 0\n",
      "_________________________________________________________________\n"
     ]
    },
    {
     "name": "stderr",
     "output_type": "stream",
     "text": [
      "Using TensorFlow backend.\n"
     ]
    }
   ],
   "source": [
    "# 딥러닝 모델 설정\n",
    "from tensorflow import keras\n",
    "from keras.models import Sequential\n",
    "from keras.layers import Dense\n",
    "\n",
    "model = Sequential([\n",
    "    Dense(12, input_shape=(4,), activation='relu'),\n",
    "    Dense(8, input_shape=(4,), activation='relu'),\n",
    "    Dense(3, activation='softmax')\n",
    "])\n",
    "model.summary()"
   ]
  },
  {
   "cell_type": "code",
   "execution_count": 22,
   "metadata": {},
   "outputs": [],
   "source": [
    "# 모델 컴파일 \n",
    "model.compile(loss='categorical_crossentropy', \n",
    "              optimizer='adam',\n",
    "              metrics=['accuracy'])"
   ]
  },
  {
   "cell_type": "code",
   "execution_count": 23,
   "metadata": {},
   "outputs": [],
   "source": [
    "from keras.callbacks import ModelCheckpoint\n",
    "checkpointer = ModelCheckpoint(filepath=\"model/iris_deep.hdf5\", \n",
    "                               monitor='val_loss', \n",
    "                               verbose=1, save_best_only=True)"
   ]
  },
  {
   "cell_type": "code",
   "execution_count": 24,
   "metadata": {},
   "outputs": [
    {
     "data": {
      "text/plain": [
       "(array([1., 0., 0.], dtype=float32),\n",
       " array([0., 0., 1.], dtype=float32),\n",
       " array([0., 0., 1.], dtype=float32))"
      ]
     },
     "execution_count": 24,
     "metadata": {},
     "output_type": "execute_result"
    }
   ],
   "source": [
    "# One hot encoding\n",
    "Y_encoded = keras.utils.to_categorical(y_train)\n",
    "Y_encoded[0], Y_encoded[50], Y_encoded[100]"
   ]
  },
  {
   "cell_type": "code",
   "execution_count": 25,
   "metadata": {},
   "outputs": [
    {
     "name": "stdout",
     "output_type": "stream",
     "text": [
      "Train on 96 samples, validate on 24 samples\n",
      "Epoch 1/100\n",
      " - 0s - loss: 1.6217 - accuracy: 0.0312 - val_loss: 1.5601 - val_accuracy: 0.0000e+00\n",
      "\n",
      "Epoch 00001: val_loss improved from inf to 1.56008, saving model to model/iris_deep.hdf5\n",
      "Epoch 2/100\n",
      " - 0s - loss: 1.5625 - accuracy: 0.0312 - val_loss: 1.5082 - val_accuracy: 0.0000e+00\n",
      "\n",
      "Epoch 00002: val_loss improved from 1.56008 to 1.50820, saving model to model/iris_deep.hdf5\n",
      "Epoch 3/100\n",
      " - 0s - loss: 1.5119 - accuracy: 0.0312 - val_loss: 1.4581 - val_accuracy: 0.0000e+00\n",
      "\n",
      "Epoch 00003: val_loss improved from 1.50820 to 1.45808, saving model to model/iris_deep.hdf5\n",
      "Epoch 4/100\n",
      " - 0s - loss: 1.4656 - accuracy: 0.0312 - val_loss: 1.4150 - val_accuracy: 0.0000e+00\n",
      "\n",
      "Epoch 00004: val_loss improved from 1.45808 to 1.41498, saving model to model/iris_deep.hdf5\n",
      "Epoch 5/100\n",
      " - 0s - loss: 1.4236 - accuracy: 0.0312 - val_loss: 1.3763 - val_accuracy: 0.0000e+00\n",
      "\n",
      "Epoch 00005: val_loss improved from 1.41498 to 1.37633, saving model to model/iris_deep.hdf5\n",
      "Epoch 6/100\n",
      " - 0s - loss: 1.3865 - accuracy: 0.0104 - val_loss: 1.3437 - val_accuracy: 0.0000e+00\n",
      "\n",
      "Epoch 00006: val_loss improved from 1.37633 to 1.34374, saving model to model/iris_deep.hdf5\n",
      "Epoch 7/100\n",
      " - 0s - loss: 1.3542 - accuracy: 0.0000e+00 - val_loss: 1.3130 - val_accuracy: 0.0000e+00\n",
      "\n",
      "Epoch 00007: val_loss improved from 1.34374 to 1.31299, saving model to model/iris_deep.hdf5\n",
      "Epoch 8/100\n",
      " - 0s - loss: 1.3237 - accuracy: 0.0000e+00 - val_loss: 1.2797 - val_accuracy: 0.0000e+00\n",
      "\n",
      "Epoch 00008: val_loss improved from 1.31299 to 1.27973, saving model to model/iris_deep.hdf5\n",
      "Epoch 9/100\n",
      " - 0s - loss: 1.2917 - accuracy: 0.0000e+00 - val_loss: 1.2486 - val_accuracy: 0.0000e+00\n",
      "\n",
      "Epoch 00009: val_loss improved from 1.27973 to 1.24860, saving model to model/iris_deep.hdf5\n",
      "Epoch 10/100\n",
      " - 0s - loss: 1.2573 - accuracy: 0.0000e+00 - val_loss: 1.2214 - val_accuracy: 0.0000e+00\n",
      "\n",
      "Epoch 00010: val_loss improved from 1.24860 to 1.22140, saving model to model/iris_deep.hdf5\n",
      "Epoch 11/100\n",
      " - 0s - loss: 1.2278 - accuracy: 0.0000e+00 - val_loss: 1.1969 - val_accuracy: 0.0000e+00\n",
      "\n",
      "Epoch 00011: val_loss improved from 1.22140 to 1.19688, saving model to model/iris_deep.hdf5\n",
      "Epoch 12/100\n",
      " - 0s - loss: 1.2014 - accuracy: 0.0104 - val_loss: 1.1752 - val_accuracy: 0.0833\n",
      "\n",
      "Epoch 00012: val_loss improved from 1.19688 to 1.17515, saving model to model/iris_deep.hdf5\n",
      "Epoch 13/100\n",
      " - 0s - loss: 1.1784 - accuracy: 0.0833 - val_loss: 1.1554 - val_accuracy: 0.1250\n",
      "\n",
      "Epoch 00013: val_loss improved from 1.17515 to 1.15535, saving model to model/iris_deep.hdf5\n",
      "Epoch 14/100\n",
      " - 0s - loss: 1.1581 - accuracy: 0.2083 - val_loss: 1.1397 - val_accuracy: 0.2917\n",
      "\n",
      "Epoch 00014: val_loss improved from 1.15535 to 1.13971, saving model to model/iris_deep.hdf5\n",
      "Epoch 15/100\n",
      " - 0s - loss: 1.1396 - accuracy: 0.3021 - val_loss: 1.1262 - val_accuracy: 0.2917\n",
      "\n",
      "Epoch 00015: val_loss improved from 1.13971 to 1.12624, saving model to model/iris_deep.hdf5\n",
      "Epoch 16/100\n",
      " - 0s - loss: 1.1252 - accuracy: 0.3333 - val_loss: 1.1139 - val_accuracy: 0.2917\n",
      "\n",
      "Epoch 00016: val_loss improved from 1.12624 to 1.11394, saving model to model/iris_deep.hdf5\n",
      "Epoch 17/100\n",
      " - 0s - loss: 1.1128 - accuracy: 0.3438 - val_loss: 1.1042 - val_accuracy: 0.2917\n",
      "\n",
      "Epoch 00017: val_loss improved from 1.11394 to 1.10421, saving model to model/iris_deep.hdf5\n",
      "Epoch 18/100\n",
      " - 0s - loss: 1.1035 - accuracy: 0.3438 - val_loss: 1.0978 - val_accuracy: 0.3333\n",
      "\n",
      "Epoch 00018: val_loss improved from 1.10421 to 1.09783, saving model to model/iris_deep.hdf5\n",
      "Epoch 19/100\n",
      " - 0s - loss: 1.0972 - accuracy: 0.3438 - val_loss: 1.0938 - val_accuracy: 0.3333\n",
      "\n",
      "Epoch 00019: val_loss improved from 1.09783 to 1.09380, saving model to model/iris_deep.hdf5\n",
      "Epoch 20/100\n",
      " - 0s - loss: 1.0952 - accuracy: 0.3438 - val_loss: 1.0947 - val_accuracy: 0.3333\n",
      "\n",
      "Epoch 00020: val_loss did not improve from 1.09380\n",
      "Epoch 21/100\n",
      " - 0s - loss: 1.0940 - accuracy: 0.3438 - val_loss: 1.0930 - val_accuracy: 0.3333\n",
      "\n",
      "Epoch 00021: val_loss improved from 1.09380 to 1.09295, saving model to model/iris_deep.hdf5\n",
      "Epoch 22/100\n",
      " - 0s - loss: 1.0923 - accuracy: 0.3542 - val_loss: 1.0905 - val_accuracy: 0.3333\n",
      "\n",
      "Epoch 00022: val_loss improved from 1.09295 to 1.09053, saving model to model/iris_deep.hdf5\n",
      "Epoch 23/100\n",
      " - 0s - loss: 1.0912 - accuracy: 0.3542 - val_loss: 1.0876 - val_accuracy: 0.4583\n",
      "\n",
      "Epoch 00023: val_loss improved from 1.09053 to 1.08765, saving model to model/iris_deep.hdf5\n",
      "Epoch 24/100\n",
      " - 0s - loss: 1.0895 - accuracy: 0.3646 - val_loss: 1.0838 - val_accuracy: 0.5417\n",
      "\n",
      "Epoch 00024: val_loss improved from 1.08765 to 1.08378, saving model to model/iris_deep.hdf5\n",
      "Epoch 25/100\n",
      " - 0s - loss: 1.0880 - accuracy: 0.4062 - val_loss: 1.0804 - val_accuracy: 0.5833\n",
      "\n",
      "Epoch 00025: val_loss improved from 1.08378 to 1.08039, saving model to model/iris_deep.hdf5\n",
      "Epoch 26/100\n",
      " - 0s - loss: 1.0865 - accuracy: 0.4375 - val_loss: 1.0774 - val_accuracy: 0.5833\n",
      "\n",
      "Epoch 00026: val_loss improved from 1.08039 to 1.07739, saving model to model/iris_deep.hdf5\n",
      "Epoch 27/100\n",
      " - 0s - loss: 1.0852 - accuracy: 0.5312 - val_loss: 1.0737 - val_accuracy: 0.5833\n",
      "\n",
      "Epoch 00027: val_loss improved from 1.07739 to 1.07374, saving model to model/iris_deep.hdf5\n",
      "Epoch 28/100\n",
      " - 0s - loss: 1.0845 - accuracy: 0.5729 - val_loss: 1.0698 - val_accuracy: 0.7083\n",
      "\n",
      "Epoch 00028: val_loss improved from 1.07374 to 1.06978, saving model to model/iris_deep.hdf5\n",
      "Epoch 29/100\n",
      " - 0s - loss: 1.0830 - accuracy: 0.5938 - val_loss: 1.0682 - val_accuracy: 0.7083\n",
      "\n",
      "Epoch 00029: val_loss improved from 1.06978 to 1.06821, saving model to model/iris_deep.hdf5\n",
      "Epoch 30/100\n",
      " - 0s - loss: 1.0820 - accuracy: 0.5729 - val_loss: 1.0688 - val_accuracy: 0.6250\n",
      "\n",
      "Epoch 00030: val_loss did not improve from 1.06821\n",
      "Epoch 31/100\n",
      " - 0s - loss: 1.0814 - accuracy: 0.5729 - val_loss: 1.0692 - val_accuracy: 0.5833\n",
      "\n",
      "Epoch 00031: val_loss did not improve from 1.06821\n",
      "Epoch 32/100\n",
      " - 0s - loss: 1.0804 - accuracy: 0.5625 - val_loss: 1.0693 - val_accuracy: 0.5833\n",
      "\n",
      "Epoch 00032: val_loss did not improve from 1.06821\n",
      "Epoch 33/100\n",
      " - 0s - loss: 1.0799 - accuracy: 0.5625 - val_loss: 1.0687 - val_accuracy: 0.5833\n",
      "\n",
      "Epoch 00033: val_loss did not improve from 1.06821\n",
      "Epoch 34/100\n",
      " - 0s - loss: 1.0783 - accuracy: 0.5729 - val_loss: 1.0662 - val_accuracy: 0.5833\n",
      "\n",
      "Epoch 00034: val_loss improved from 1.06821 to 1.06617, saving model to model/iris_deep.hdf5\n",
      "Epoch 35/100\n",
      " - 0s - loss: 1.0768 - accuracy: 0.5729 - val_loss: 1.0642 - val_accuracy: 0.6250\n",
      "\n",
      "Epoch 00035: val_loss improved from 1.06617 to 1.06425, saving model to model/iris_deep.hdf5\n",
      "Epoch 36/100\n",
      " - 0s - loss: 1.0754 - accuracy: 0.5729 - val_loss: 1.0628 - val_accuracy: 0.6250\n",
      "\n",
      "Epoch 00036: val_loss improved from 1.06425 to 1.06283, saving model to model/iris_deep.hdf5\n",
      "Epoch 37/100\n",
      " - 0s - loss: 1.0739 - accuracy: 0.5833 - val_loss: 1.0614 - val_accuracy: 0.6250\n",
      "\n",
      "Epoch 00037: val_loss improved from 1.06283 to 1.06139, saving model to model/iris_deep.hdf5\n",
      "Epoch 38/100\n",
      " - 0s - loss: 1.0721 - accuracy: 0.5833 - val_loss: 1.0609 - val_accuracy: 0.6250\n",
      "\n",
      "Epoch 00038: val_loss improved from 1.06139 to 1.06088, saving model to model/iris_deep.hdf5\n",
      "Epoch 39/100\n",
      " - 0s - loss: 1.0706 - accuracy: 0.5729 - val_loss: 1.0593 - val_accuracy: 0.6250\n",
      "\n",
      "Epoch 00039: val_loss improved from 1.06088 to 1.05927, saving model to model/iris_deep.hdf5\n",
      "Epoch 40/100\n",
      " - 0s - loss: 1.0688 - accuracy: 0.5729 - val_loss: 1.0575 - val_accuracy: 0.6250\n",
      "\n",
      "Epoch 00040: val_loss improved from 1.05927 to 1.05747, saving model to model/iris_deep.hdf5\n",
      "Epoch 41/100\n",
      " - 0s - loss: 1.0670 - accuracy: 0.5833 - val_loss: 1.0558 - val_accuracy: 0.6250\n",
      "\n",
      "Epoch 00041: val_loss improved from 1.05747 to 1.05584, saving model to model/iris_deep.hdf5\n",
      "Epoch 42/100\n",
      " - 0s - loss: 1.0650 - accuracy: 0.5729 - val_loss: 1.0551 - val_accuracy: 0.5833\n",
      "\n",
      "Epoch 00042: val_loss improved from 1.05584 to 1.05512, saving model to model/iris_deep.hdf5\n",
      "Epoch 43/100\n",
      " - 0s - loss: 1.0630 - accuracy: 0.5729 - val_loss: 1.0536 - val_accuracy: 0.5833\n",
      "\n",
      "Epoch 00043: val_loss improved from 1.05512 to 1.05364, saving model to model/iris_deep.hdf5\n",
      "Epoch 44/100\n",
      " - 0s - loss: 1.0606 - accuracy: 0.5729 - val_loss: 1.0507 - val_accuracy: 0.5833\n",
      "\n",
      "Epoch 00044: val_loss improved from 1.05364 to 1.05072, saving model to model/iris_deep.hdf5\n"
     ]
    },
    {
     "name": "stdout",
     "output_type": "stream",
     "text": [
      "Epoch 45/100\n",
      " - 0s - loss: 1.0580 - accuracy: 0.5729 - val_loss: 1.0486 - val_accuracy: 0.5833\n",
      "\n",
      "Epoch 00045: val_loss improved from 1.05072 to 1.04859, saving model to model/iris_deep.hdf5\n",
      "Epoch 46/100\n",
      " - 0s - loss: 1.0555 - accuracy: 0.5729 - val_loss: 1.0464 - val_accuracy: 0.5833\n",
      "\n",
      "Epoch 00046: val_loss improved from 1.04859 to 1.04638, saving model to model/iris_deep.hdf5\n",
      "Epoch 47/100\n",
      " - 0s - loss: 1.0530 - accuracy: 0.5625 - val_loss: 1.0433 - val_accuracy: 0.5833\n",
      "\n",
      "Epoch 00047: val_loss improved from 1.04638 to 1.04329, saving model to model/iris_deep.hdf5\n",
      "Epoch 48/100\n",
      " - 0s - loss: 1.0495 - accuracy: 0.5729 - val_loss: 1.0368 - val_accuracy: 0.7083\n",
      "\n",
      "Epoch 00048: val_loss improved from 1.04329 to 1.03679, saving model to model/iris_deep.hdf5\n",
      "Epoch 49/100\n",
      " - 0s - loss: 1.0452 - accuracy: 0.6042 - val_loss: 1.0302 - val_accuracy: 0.7083\n",
      "\n",
      "Epoch 00049: val_loss improved from 1.03679 to 1.03018, saving model to model/iris_deep.hdf5\n",
      "Epoch 50/100\n",
      " - 0s - loss: 1.0414 - accuracy: 0.5938 - val_loss: 1.0234 - val_accuracy: 0.7083\n",
      "\n",
      "Epoch 00050: val_loss improved from 1.03018 to 1.02340, saving model to model/iris_deep.hdf5\n",
      "Epoch 51/100\n",
      " - 0s - loss: 1.0365 - accuracy: 0.6146 - val_loss: 1.0179 - val_accuracy: 0.7083\n",
      "\n",
      "Epoch 00051: val_loss improved from 1.02340 to 1.01795, saving model to model/iris_deep.hdf5\n",
      "Epoch 52/100\n",
      " - 0s - loss: 1.0317 - accuracy: 0.6146 - val_loss: 1.0102 - val_accuracy: 0.7083\n",
      "\n",
      "Epoch 00052: val_loss improved from 1.01795 to 1.01023, saving model to model/iris_deep.hdf5\n",
      "Epoch 53/100\n",
      " - 0s - loss: 1.0254 - accuracy: 0.5938 - val_loss: 1.0028 - val_accuracy: 0.7083\n",
      "\n",
      "Epoch 00053: val_loss improved from 1.01023 to 1.00281, saving model to model/iris_deep.hdf5\n",
      "Epoch 54/100\n",
      " - 0s - loss: 1.0174 - accuracy: 0.5938 - val_loss: 0.9941 - val_accuracy: 0.7083\n",
      "\n",
      "Epoch 00054: val_loss improved from 1.00281 to 0.99413, saving model to model/iris_deep.hdf5\n",
      "Epoch 55/100\n",
      " - 0s - loss: 1.0074 - accuracy: 0.6146 - val_loss: 0.9872 - val_accuracy: 0.7083\n",
      "\n",
      "Epoch 00055: val_loss improved from 0.99413 to 0.98715, saving model to model/iris_deep.hdf5\n",
      "Epoch 56/100\n",
      " - 0s - loss: 0.9992 - accuracy: 0.6250 - val_loss: 0.9799 - val_accuracy: 0.7083\n",
      "\n",
      "Epoch 00056: val_loss improved from 0.98715 to 0.97988, saving model to model/iris_deep.hdf5\n",
      "Epoch 57/100\n",
      " - 0s - loss: 0.9924 - accuracy: 0.6146 - val_loss: 0.9694 - val_accuracy: 0.7083\n",
      "\n",
      "Epoch 00057: val_loss improved from 0.97988 to 0.96941, saving model to model/iris_deep.hdf5\n",
      "Epoch 58/100\n",
      " - 0s - loss: 0.9794 - accuracy: 0.7188 - val_loss: 0.9606 - val_accuracy: 1.0000\n",
      "\n",
      "Epoch 00058: val_loss improved from 0.96941 to 0.96064, saving model to model/iris_deep.hdf5\n",
      "Epoch 59/100\n",
      " - 0s - loss: 0.9669 - accuracy: 0.9479 - val_loss: 0.9466 - val_accuracy: 0.7917\n",
      "\n",
      "Epoch 00059: val_loss improved from 0.96064 to 0.94657, saving model to model/iris_deep.hdf5\n",
      "Epoch 60/100\n",
      " - 0s - loss: 0.9524 - accuracy: 0.8021 - val_loss: 0.9291 - val_accuracy: 0.7083\n",
      "\n",
      "Epoch 00060: val_loss improved from 0.94657 to 0.92912, saving model to model/iris_deep.hdf5\n",
      "Epoch 61/100\n",
      " - 0s - loss: 0.9371 - accuracy: 0.7188 - val_loss: 0.9112 - val_accuracy: 0.7083\n",
      "\n",
      "Epoch 00061: val_loss improved from 0.92912 to 0.91119, saving model to model/iris_deep.hdf5\n",
      "Epoch 62/100\n",
      " - 0s - loss: 0.9199 - accuracy: 0.6771 - val_loss: 0.8895 - val_accuracy: 0.7083\n",
      "\n",
      "Epoch 00062: val_loss improved from 0.91119 to 0.88954, saving model to model/iris_deep.hdf5\n",
      "Epoch 63/100\n",
      " - 0s - loss: 0.9014 - accuracy: 0.6771 - val_loss: 0.8668 - val_accuracy: 0.7500\n",
      "\n",
      "Epoch 00063: val_loss improved from 0.88954 to 0.86685, saving model to model/iris_deep.hdf5\n",
      "Epoch 64/100\n",
      " - 0s - loss: 0.8838 - accuracy: 0.6875 - val_loss: 0.8459 - val_accuracy: 0.7500\n",
      "\n",
      "Epoch 00064: val_loss improved from 0.86685 to 0.84592, saving model to model/iris_deep.hdf5\n",
      "Epoch 65/100\n",
      " - 0s - loss: 0.8670 - accuracy: 0.6875 - val_loss: 0.8275 - val_accuracy: 0.7083\n",
      "\n",
      "Epoch 00065: val_loss improved from 0.84592 to 0.82752, saving model to model/iris_deep.hdf5\n",
      "Epoch 66/100\n",
      " - 0s - loss: 0.8478 - accuracy: 0.6771 - val_loss: 0.8117 - val_accuracy: 0.7083\n",
      "\n",
      "Epoch 00066: val_loss improved from 0.82752 to 0.81171, saving model to model/iris_deep.hdf5\n",
      "Epoch 67/100\n",
      " - 0s - loss: 0.8299 - accuracy: 0.6875 - val_loss: 0.7971 - val_accuracy: 0.7500\n",
      "\n",
      "Epoch 00067: val_loss improved from 0.81171 to 0.79705, saving model to model/iris_deep.hdf5\n",
      "Epoch 68/100\n",
      " - 0s - loss: 0.8118 - accuracy: 0.6875 - val_loss: 0.7805 - val_accuracy: 0.7917\n",
      "\n",
      "Epoch 00068: val_loss improved from 0.79705 to 0.78053, saving model to model/iris_deep.hdf5\n",
      "Epoch 69/100\n",
      " - 0s - loss: 0.7946 - accuracy: 0.6875 - val_loss: 0.7635 - val_accuracy: 0.8333\n",
      "\n",
      "Epoch 00069: val_loss improved from 0.78053 to 0.76348, saving model to model/iris_deep.hdf5\n",
      "Epoch 70/100\n",
      " - 0s - loss: 0.7758 - accuracy: 0.7292 - val_loss: 0.7459 - val_accuracy: 0.8333\n",
      "\n",
      "Epoch 00070: val_loss improved from 0.76348 to 0.74594, saving model to model/iris_deep.hdf5\n",
      "Epoch 71/100\n",
      " - 0s - loss: 0.7576 - accuracy: 0.7604 - val_loss: 0.7271 - val_accuracy: 0.8333\n",
      "\n",
      "Epoch 00071: val_loss improved from 0.74594 to 0.72709, saving model to model/iris_deep.hdf5\n",
      "Epoch 72/100\n",
      " - 0s - loss: 0.7400 - accuracy: 0.7604 - val_loss: 0.7089 - val_accuracy: 0.8333\n",
      "\n",
      "Epoch 00072: val_loss improved from 0.72709 to 0.70895, saving model to model/iris_deep.hdf5\n",
      "Epoch 73/100\n",
      " - 0s - loss: 0.7223 - accuracy: 0.7708 - val_loss: 0.6938 - val_accuracy: 0.8333\n",
      "\n",
      "Epoch 00073: val_loss improved from 0.70895 to 0.69375, saving model to model/iris_deep.hdf5\n",
      "Epoch 74/100\n",
      " - 0s - loss: 0.7055 - accuracy: 0.8125 - val_loss: 0.6810 - val_accuracy: 0.8333\n",
      "\n",
      "Epoch 00074: val_loss improved from 0.69375 to 0.68102, saving model to model/iris_deep.hdf5\n",
      "Epoch 75/100\n",
      " - 0s - loss: 0.6893 - accuracy: 0.8542 - val_loss: 0.6659 - val_accuracy: 0.8333\n",
      "\n",
      "Epoch 00075: val_loss improved from 0.68102 to 0.66591, saving model to model/iris_deep.hdf5\n",
      "Epoch 76/100\n",
      " - 0s - loss: 0.6740 - accuracy: 0.8542 - val_loss: 0.6491 - val_accuracy: 0.8333\n",
      "\n",
      "Epoch 00076: val_loss improved from 0.66591 to 0.64908, saving model to model/iris_deep.hdf5\n",
      "Epoch 77/100\n",
      " - 0s - loss: 0.6579 - accuracy: 0.8333 - val_loss: 0.6296 - val_accuracy: 0.8333\n",
      "\n",
      "Epoch 00077: val_loss improved from 0.64908 to 0.62963, saving model to model/iris_deep.hdf5\n",
      "Epoch 78/100\n",
      " - 0s - loss: 0.6425 - accuracy: 0.7917 - val_loss: 0.6146 - val_accuracy: 0.8333\n",
      "\n",
      "Epoch 00078: val_loss improved from 0.62963 to 0.61459, saving model to model/iris_deep.hdf5\n",
      "Epoch 79/100\n",
      " - 0s - loss: 0.6289 - accuracy: 0.7604 - val_loss: 0.6004 - val_accuracy: 0.8333\n",
      "\n",
      "Epoch 00079: val_loss improved from 0.61459 to 0.60044, saving model to model/iris_deep.hdf5\n",
      "Epoch 80/100\n",
      " - 0s - loss: 0.6150 - accuracy: 0.7083 - val_loss: 0.5878 - val_accuracy: 0.8333\n",
      "\n",
      "Epoch 00080: val_loss improved from 0.60044 to 0.58784, saving model to model/iris_deep.hdf5\n",
      "Epoch 81/100\n",
      " - 0s - loss: 0.6020 - accuracy: 0.7500 - val_loss: 0.5743 - val_accuracy: 0.8333\n",
      "\n",
      "Epoch 00081: val_loss improved from 0.58784 to 0.57435, saving model to model/iris_deep.hdf5\n",
      "Epoch 82/100\n",
      " - 0s - loss: 0.5887 - accuracy: 0.7812 - val_loss: 0.5614 - val_accuracy: 0.8333\n",
      "\n",
      "Epoch 00082: val_loss improved from 0.57435 to 0.56145, saving model to model/iris_deep.hdf5\n",
      "Epoch 83/100\n",
      " - 0s - loss: 0.5751 - accuracy: 0.8542 - val_loss: 0.5501 - val_accuracy: 0.8333\n",
      "\n",
      "Epoch 00083: val_loss improved from 0.56145 to 0.55015, saving model to model/iris_deep.hdf5\n",
      "Epoch 84/100\n",
      " - 0s - loss: 0.5629 - accuracy: 0.8750 - val_loss: 0.5394 - val_accuracy: 0.8333\n",
      "\n",
      "Epoch 00084: val_loss improved from 0.55015 to 0.53936, saving model to model/iris_deep.hdf5\n",
      "Epoch 85/100\n",
      " - 0s - loss: 0.5511 - accuracy: 0.8854 - val_loss: 0.5290 - val_accuracy: 0.8750\n",
      "\n",
      "Epoch 00085: val_loss improved from 0.53936 to 0.52900, saving model to model/iris_deep.hdf5\n",
      "Epoch 86/100\n",
      " - 0s - loss: 0.5393 - accuracy: 0.8854 - val_loss: 0.5193 - val_accuracy: 0.9583\n",
      "\n",
      "Epoch 00086: val_loss improved from 0.52900 to 0.51934, saving model to model/iris_deep.hdf5\n",
      "Epoch 87/100\n",
      " - 0s - loss: 0.5286 - accuracy: 0.9062 - val_loss: 0.5103 - val_accuracy: 1.0000\n",
      "\n",
      "Epoch 00087: val_loss improved from 0.51934 to 0.51030, saving model to model/iris_deep.hdf5\n",
      "Epoch 88/100\n",
      " - 0s - loss: 0.5184 - accuracy: 0.9062 - val_loss: 0.5014 - val_accuracy: 1.0000\n"
     ]
    },
    {
     "name": "stdout",
     "output_type": "stream",
     "text": [
      "\n",
      "Epoch 00088: val_loss improved from 0.51030 to 0.50138, saving model to model/iris_deep.hdf5\n",
      "Epoch 89/100\n",
      " - 0s - loss: 0.5084 - accuracy: 0.9062 - val_loss: 0.4916 - val_accuracy: 1.0000\n",
      "\n",
      "Epoch 00089: val_loss improved from 0.50138 to 0.49160, saving model to model/iris_deep.hdf5\n",
      "Epoch 90/100\n",
      " - 0s - loss: 0.4992 - accuracy: 0.8958 - val_loss: 0.4823 - val_accuracy: 1.0000\n",
      "\n",
      "Epoch 00090: val_loss improved from 0.49160 to 0.48233, saving model to model/iris_deep.hdf5\n",
      "Epoch 91/100\n",
      " - 0s - loss: 0.4895 - accuracy: 0.9062 - val_loss: 0.4744 - val_accuracy: 1.0000\n",
      "\n",
      "Epoch 00091: val_loss improved from 0.48233 to 0.47440, saving model to model/iris_deep.hdf5\n",
      "Epoch 92/100\n",
      " - 0s - loss: 0.4797 - accuracy: 0.9167 - val_loss: 0.4669 - val_accuracy: 1.0000\n",
      "\n",
      "Epoch 00092: val_loss improved from 0.47440 to 0.46693, saving model to model/iris_deep.hdf5\n",
      "Epoch 93/100\n",
      " - 0s - loss: 0.4710 - accuracy: 0.9271 - val_loss: 0.4593 - val_accuracy: 1.0000\n",
      "\n",
      "Epoch 00093: val_loss improved from 0.46693 to 0.45932, saving model to model/iris_deep.hdf5\n",
      "Epoch 94/100\n",
      " - 0s - loss: 0.4629 - accuracy: 0.9271 - val_loss: 0.4514 - val_accuracy: 1.0000\n",
      "\n",
      "Epoch 00094: val_loss improved from 0.45932 to 0.45137, saving model to model/iris_deep.hdf5\n",
      "Epoch 95/100\n",
      " - 0s - loss: 0.4544 - accuracy: 0.9271 - val_loss: 0.4446 - val_accuracy: 1.0000\n",
      "\n",
      "Epoch 00095: val_loss improved from 0.45137 to 0.44458, saving model to model/iris_deep.hdf5\n",
      "Epoch 96/100\n",
      " - 0s - loss: 0.4470 - accuracy: 0.9479 - val_loss: 0.4393 - val_accuracy: 1.0000\n",
      "\n",
      "Epoch 00096: val_loss improved from 0.44458 to 0.43929, saving model to model/iris_deep.hdf5\n",
      "Epoch 97/100\n",
      " - 0s - loss: 0.4411 - accuracy: 0.9583 - val_loss: 0.4353 - val_accuracy: 1.0000\n",
      "\n",
      "Epoch 00097: val_loss improved from 0.43929 to 0.43533, saving model to model/iris_deep.hdf5\n",
      "Epoch 98/100\n",
      " - 0s - loss: 0.4339 - accuracy: 0.9583 - val_loss: 0.4283 - val_accuracy: 1.0000\n",
      "\n",
      "Epoch 00098: val_loss improved from 0.43533 to 0.42827, saving model to model/iris_deep.hdf5\n",
      "Epoch 99/100\n",
      " - 0s - loss: 0.4258 - accuracy: 0.9583 - val_loss: 0.4190 - val_accuracy: 1.0000\n",
      "\n",
      "Epoch 00099: val_loss improved from 0.42827 to 0.41905, saving model to model/iris_deep.hdf5\n",
      "Epoch 100/100\n",
      " - 0s - loss: 0.4184 - accuracy: 0.9583 - val_loss: 0.4113 - val_accuracy: 1.0000\n",
      "\n",
      "Epoch 00100: val_loss improved from 0.41905 to 0.41125, saving model to model/iris_deep.hdf5\n"
     ]
    },
    {
     "data": {
      "text/plain": [
       "<keras.callbacks.callbacks.History at 0x18fb42fc988>"
      ]
     },
     "execution_count": 25,
     "metadata": {},
     "output_type": "execute_result"
    }
   ],
   "source": [
    "# 모델 학습\n",
    "model.fit(x_train, Y_encoded, epochs=100, batch_size=30, verbose=2,\n",
    "          validation_split=0.2, callbacks=[checkpointer])"
   ]
  },
  {
   "cell_type": "code",
   "execution_count": 26,
   "metadata": {},
   "outputs": [],
   "source": [
    "from keras.models import load_model\n",
    "model_deep = load_model(\"model/iris_deep.hdf5\")"
   ]
  },
  {
   "cell_type": "code",
   "execution_count": 27,
   "metadata": {},
   "outputs": [
    {
     "name": "stdout",
     "output_type": "stream",
     "text": [
      "\r",
      "30/30 [==============================] - 0s 33us/step\n"
     ]
    },
    {
     "data": {
      "text/plain": [
       "0.9666666388511658"
      ]
     },
     "execution_count": 27,
     "metadata": {},
     "output_type": "execute_result"
    }
   ],
   "source": [
    "model.evaluate(x_test, keras.utils.to_categorical(y_test))[1]"
   ]
  },
  {
   "cell_type": "code",
   "execution_count": 28,
   "metadata": {},
   "outputs": [
    {
     "data": {
      "text/plain": [
       "2"
      ]
     },
     "execution_count": 28,
     "metadata": {},
     "output_type": "execute_result"
    }
   ],
   "source": [
    "model_deep.predict_classes(test_data)[0]"
   ]
  },
  {
   "cell_type": "code",
   "execution_count": 29,
   "metadata": {},
   "outputs": [
    {
     "data": {
      "text/plain": [
       "array([[0.05499735, 0.33101156, 0.6139911 ]], dtype=float32)"
      ]
     },
     "execution_count": 29,
     "metadata": {},
     "output_type": "execute_result"
    }
   ],
   "source": [
    "model_deep.predict(test_data)"
   ]
  },
  {
   "cell_type": "code",
   "execution_count": 30,
   "metadata": {},
   "outputs": [
    {
     "data": {
      "text/plain": [
       "2"
      ]
     },
     "execution_count": 30,
     "metadata": {},
     "output_type": "execute_result"
    }
   ],
   "source": [
    "np.argmax(model_deep.predict(test_data)[0])"
   ]
  },
  {
   "cell_type": "code",
   "execution_count": null,
   "metadata": {},
   "outputs": [],
   "source": []
  }
 ],
 "metadata": {
  "kernelspec": {
   "display_name": "Python 3",
   "language": "python",
   "name": "python3"
  },
  "language_info": {
   "codemirror_mode": {
    "name": "ipython",
    "version": 3
   },
   "file_extension": ".py",
   "mimetype": "text/x-python",
   "name": "python",
   "nbconvert_exporter": "python",
   "pygments_lexer": "ipython3",
   "version": "3.7.7"
  }
 },
 "nbformat": 4,
 "nbformat_minor": 4
}
