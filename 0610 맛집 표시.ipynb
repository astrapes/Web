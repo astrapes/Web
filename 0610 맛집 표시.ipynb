{
 "cells": [
  {
   "cell_type": "code",
   "execution_count": 5,
   "metadata": {},
   "outputs": [],
   "source": [
    "from bs4 import BeautifulSoup\n",
    "from urllib.request import urlopen\n",
    "import re\n",
    "from urllib.parse import urljoin\n",
    "import pandas as pd\n",
    "from tqdm.notebook import tqdm\n",
    "import time"
   ]
  },
  {
   "cell_type": "code",
   "execution_count": 12,
   "metadata": {},
   "outputs": [],
   "source": [
    "url_base = 'https://www.diningcode.com'\n",
    "url_sub = '/list.php?query=%EC%A0%95%EB%A6%BC%EB%8F%99'\n",
    "url = url_base + url_sub\n",
    "html = urlopen(url)\n",
    "soup = BeautifulSoup(html,'html.parser')\n",
    "rest_lists = soup.find_all(class_ = 'blink')"
   ]
  },
  {
   "cell_type": "code",
   "execution_count": 13,
   "metadata": {},
   "outputs": [],
   "source": [
    "rest_list = rest_lists[1].find_all(class_='btxt')\n",
    "main_menu_list = rest_lists[1].find_all(class_='stxt')"
   ]
  },
  {
   "cell_type": "code",
   "execution_count": 4,
   "metadata": {},
   "outputs": [],
   "source": [
    "rank = []\n",
    "main_menu = []\n",
    "rest_name = []\n",
    "url_add = []\n",
    "for link in rest_lists[1].find_all('a'):\n",
    "    if 'href' in link.attrs:\n",
    "        url_add.append(urljoin(url_base,link.attrs['href']))\n",
    "        \n",
    "for i in range(0,len(rest_list)):\n",
    "    rank.append(rest_list[i].get_text().split('.')[0])\n",
    "    rest_name.append(rest_list[i].get_text().split('.')[1].replace(' ',''))\n",
    "    main_menu.append(main_menu_list[i].get_text().split(',')[0])"
   ]
  },
  {
   "cell_type": "code",
   "execution_count": 5,
   "metadata": {
    "scrolled": true
   },
   "outputs": [],
   "source": [
    "df = pd.DataFrame(dict(zip(['Rank','Rest_name','Main Menu','URL'],\n",
    "                           [rank,rest_name,main_menu,url_add])))\n",
    "df.set_index('Rank',inplace=True)"
   ]
  },
  {
   "cell_type": "code",
   "execution_count": 6,
   "metadata": {},
   "outputs": [
    {
     "data": {
      "application/vnd.jupyter.widget-view+json": {
       "model_id": "4999b2aaf4f744e7be805c99afa6a2e4",
       "version_major": 2,
       "version_minor": 0
      },
      "text/plain": [
       "HBox(children=(FloatProgress(value=0.0, max=10.0), HTML(value='')))"
      ]
     },
     "metadata": {},
     "output_type": "display_data"
    },
    {
     "name": "stdout",
     "output_type": "stream",
     "text": [
      "\n"
     ]
    }
   ],
   "source": [
    "tel = []\n",
    "addr = []\n",
    "for n in tqdm(df.index):\n",
    "    html = urlopen(df['URL'][n])\n",
    "    soup_tmp = BeautifulSoup(html,'html.parser')\n",
    "       \n",
    "    tel.append(soup_tmp.find(class_='tel').get_text())\n",
    "    addr.append(soup_tmp.find(class_='locat').get_text())"
   ]
  },
  {
   "cell_type": "code",
   "execution_count": 7,
   "metadata": {},
   "outputs": [
    {
     "data": {
      "text/html": [
       "<div>\n",
       "<style scoped>\n",
       "    .dataframe tbody tr th:only-of-type {\n",
       "        vertical-align: middle;\n",
       "    }\n",
       "\n",
       "    .dataframe tbody tr th {\n",
       "        vertical-align: top;\n",
       "    }\n",
       "\n",
       "    .dataframe thead th {\n",
       "        text-align: right;\n",
       "    }\n",
       "</style>\n",
       "<table border=\"1\" class=\"dataframe\">\n",
       "  <thead>\n",
       "    <tr style=\"text-align: right;\">\n",
       "      <th></th>\n",
       "      <th>Rest_name</th>\n",
       "      <th>Main Menu</th>\n",
       "      <th>Tel</th>\n",
       "      <th>Address</th>\n",
       "    </tr>\n",
       "    <tr>\n",
       "      <th>Rank</th>\n",
       "      <th></th>\n",
       "      <th></th>\n",
       "      <th></th>\n",
       "      <th></th>\n",
       "    </tr>\n",
       "  </thead>\n",
       "  <tbody>\n",
       "    <tr>\n",
       "      <th>1</th>\n",
       "      <td>구들마루</td>\n",
       "      <td>곱창전골</td>\n",
       "      <td>042-582-8266</td>\n",
       "      <td>대전광역시 서구 정림동  570</td>\n",
       "    </tr>\n",
       "    <tr>\n",
       "      <th>2</th>\n",
       "      <td>강변식당</td>\n",
       "      <td>돼지두루치기</td>\n",
       "      <td>042-581-5559</td>\n",
       "      <td>대전광역시 서구 정림동 200-1</td>\n",
       "    </tr>\n",
       "    <tr>\n",
       "      <th>3</th>\n",
       "      <td>이거시참치</td>\n",
       "      <td></td>\n",
       "      <td>042-584-3789</td>\n",
       "      <td>대전광역시 서구 정림동 554</td>\n",
       "    </tr>\n",
       "    <tr>\n",
       "      <th>4</th>\n",
       "      <td>착한낙지</td>\n",
       "      <td>낙지덮밥</td>\n",
       "      <td>042-536-0076</td>\n",
       "      <td>대전광역시 서구 정림동 267</td>\n",
       "    </tr>\n",
       "    <tr>\n",
       "      <th>5</th>\n",
       "      <td>정림미꾸리추어탕</td>\n",
       "      <td>추어탕</td>\n",
       "      <td>042-582-7333</td>\n",
       "      <td>대전광역시 서구 정림동 524</td>\n",
       "    </tr>\n",
       "    <tr>\n",
       "      <th>6</th>\n",
       "      <td>영화식당</td>\n",
       "      <td></td>\n",
       "      <td>042-584-7092</td>\n",
       "      <td>대전시 서구 정림동 602-1</td>\n",
       "    </tr>\n",
       "    <tr>\n",
       "      <th>7</th>\n",
       "      <td>허사또쭈꾸미</td>\n",
       "      <td>쭈꾸미</td>\n",
       "      <td>042-538-1230</td>\n",
       "      <td>대전광역시 서구 정림동 527</td>\n",
       "    </tr>\n",
       "    <tr>\n",
       "      <th>8</th>\n",
       "      <td>세림돌구이</td>\n",
       "      <td>삼겹살</td>\n",
       "      <td>042-586-8989</td>\n",
       "      <td>대전광역시 서구 정림동 125-43</td>\n",
       "    </tr>\n",
       "    <tr>\n",
       "      <th>9</th>\n",
       "      <td>정림일식</td>\n",
       "      <td>일식</td>\n",
       "      <td>042-583-4545</td>\n",
       "      <td>대전광역시 서구 정림동 514</td>\n",
       "    </tr>\n",
       "    <tr>\n",
       "      <th>10</th>\n",
       "      <td>뚱땡이감자탕</td>\n",
       "      <td>감자탕</td>\n",
       "      <td>042-586-0706</td>\n",
       "      <td>대전광역시 서구 정림동 643</td>\n",
       "    </tr>\n",
       "  </tbody>\n",
       "</table>\n",
       "</div>"
      ],
      "text/plain": [
       "     Rest_name Main Menu           Tel              Address\n",
       "Rank                                                       \n",
       "1         구들마루      곱창전골  042-582-8266    대전광역시 서구 정림동  570\n",
       "2         강변식당    돼지두루치기  042-581-5559   대전광역시 서구 정림동 200-1\n",
       "3        이거시참치            042-584-3789     대전광역시 서구 정림동 554\n",
       "4         착한낙지      낙지덮밥  042-536-0076     대전광역시 서구 정림동 267\n",
       "5     정림미꾸리추어탕       추어탕  042-582-7333     대전광역시 서구 정림동 524\n",
       "6         영화식당            042-584-7092     대전시 서구 정림동 602-1\n",
       "7       허사또쭈꾸미       쭈꾸미  042-538-1230     대전광역시 서구 정림동 527\n",
       "8        세림돌구이       삼겹살  042-586-8989  대전광역시 서구 정림동 125-43\n",
       "9         정림일식        일식  042-583-4545     대전광역시 서구 정림동 514\n",
       "10      뚱땡이감자탕       감자탕  042-586-0706     대전광역시 서구 정림동 643"
      ]
     },
     "execution_count": 7,
     "metadata": {},
     "output_type": "execute_result"
    }
   ],
   "source": [
    "df['Tel'] = tel\n",
    "df['Address'] = addr\n",
    "del df['URL']\n",
    "df"
   ]
  }
 ],
 "metadata": {
  "kernelspec": {
   "display_name": "Python 3",
   "language": "python",
   "name": "python3"
  },
  "language_info": {
   "codemirror_mode": {
    "name": "ipython",
    "version": 3
   },
   "file_extension": ".py",
   "mimetype": "text/x-python",
   "name": "python",
   "nbconvert_exporter": "python",
   "pygments_lexer": "ipython3",
   "version": "3.7.6"
  }
 },
 "nbformat": 4,
 "nbformat_minor": 4
}
